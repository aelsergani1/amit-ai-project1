{
 "cells": [
  {
   "cell_type": "markdown",
   "id": "851721bf-d485-4347-8f07-dfd7322a5de9",
   "metadata": {},
   "source": [
    "# Problem 1"
   ]
  },
  {
   "cell_type": "code",
   "execution_count": 155,
   "id": "3f0a9a08-c89f-45d7-9f0c-fbe74de4700a",
   "metadata": {},
   "outputs": [
    {
     "data": {
      "text/plain": [
       "array([[ 4,  1,  3],\n",
       "       [10,  8,  6],\n",
       "       [ 4,  9,  7]])"
      ]
     },
     "execution_count": 155,
     "metadata": {},
     "output_type": "execute_result"
    }
   ],
   "source": [
    "# Create a 3x3 matrix of random integers between 1 and 10.\n",
    "import numpy as np\n",
    "import random\n",
    "\n",
    "def rand():\n",
    "    intNumbers = [0, 1, 2, 3, 4, 5, 6, 7, 8, 9, 10]\n",
    "    return random.choice(intNumbers)\n",
    "\n",
    "arr = np.array([[rand(), rand(), rand()], [rand(), rand(), rand()], [rand(), rand(), rand()]])\n",
    "arr\n",
    "\n",
    "# Alternative solution\n",
    "anotherArray = np.random.randint(1, 11, size=(3, 3))\n",
    "anotherArray"
   ]
  },
  {
   "cell_type": "code",
   "execution_count": 56,
   "id": "bee7790a-3a69-414b-93dd-b6c814777aab",
   "metadata": {},
   "outputs": [
    {
     "name": "stdout",
     "output_type": "stream",
     "text": [
      "First Row =  [6 0 8]\n",
      "First Column =  [6 7 7]\n"
     ]
    }
   ],
   "source": [
    "# Extract the first row and first column from the matrix.\n",
    "print(\"First Row = \", arr[0, 0:3])\n",
    "print(\"First Column = \", arr[0:3, 0])"
   ]
  },
  {
   "cell_type": "code",
   "execution_count": 70,
   "id": "088898c3-5837-4318-b63d-4e5535fe170c",
   "metadata": {},
   "outputs": [
    {
     "data": {
      "text/plain": [
       "array([[5, 0, 0],\n",
       "       [0, 3, 0],\n",
       "       [0, 0, 0]])"
      ]
     },
     "execution_count": 70,
     "metadata": {},
     "output_type": "execute_result"
    }
   ],
   "source": [
    "# Replace all even numbers in the matrix with 0.    \n",
    "arr[arr % 2 == 0] = 0\n",
    "arr"
   ]
  },
  {
   "cell_type": "markdown",
   "id": "4a1fa16f-df34-47cf-82be-28cfd0b8b9a9",
   "metadata": {},
   "source": [
    "# Problem 2"
   ]
  },
  {
   "cell_type": "code",
   "execution_count": 86,
   "id": "eda407b7-d8f4-4766-beee-841a0232d17a",
   "metadata": {},
   "outputs": [
    {
     "name": "stdout",
     "output_type": "stream",
     "text": [
      "[[1 2]\n",
      " [3 4]]\n",
      "[[5 6]\n",
      " [7 8]]\n"
     ]
    },
    {
     "data": {
      "text/plain": [
       "array([[ 6,  8],\n",
       "       [10, 12]])"
      ]
     },
     "execution_count": 86,
     "metadata": {},
     "output_type": "execute_result"
    }
   ],
   "source": [
    "# Create two 2x2 matrices and perform the following operations:\n",
    "\n",
    "array1 = np.array([[1, 2], [3, 4]])\n",
    "print(array1)\n",
    "\n",
    "array2 = np.array([[5, 6], [7, 8]])\n",
    "print(array2)\n",
    "\n"
   ]
  },
  {
   "cell_type": "code",
   "execution_count": 88,
   "id": "d4a75c12-ca9a-4402-ad11-ab84a184a077",
   "metadata": {},
   "outputs": [
    {
     "data": {
      "text/plain": [
       "array([[ 6,  8],\n",
       "       [10, 12]])"
      ]
     },
     "execution_count": 88,
     "metadata": {},
     "output_type": "execute_result"
    }
   ],
   "source": [
    "# ○ Matrix addition\n",
    "addition = array1 + array2\n",
    "addition"
   ]
  },
  {
   "cell_type": "code",
   "execution_count": 90,
   "id": "3454f2fa-e14b-49fb-ae9e-0395c00a6862",
   "metadata": {},
   "outputs": [
    {
     "data": {
      "text/plain": [
       "array([[ 5, 12],\n",
       "       [21, 32]])"
      ]
     },
     "execution_count": 90,
     "metadata": {},
     "output_type": "execute_result"
    }
   ],
   "source": [
    "# ○ Matrix multiplication (element-wise)\n",
    "multiplication = array1 * array2\n",
    "multiplication"
   ]
  },
  {
   "cell_type": "code",
   "execution_count": 96,
   "id": "7e52df5f-3580-4917-b8f2-59e54a66d347",
   "metadata": {},
   "outputs": [
    {
     "data": {
      "text/plain": [
       "array([[19, 22],\n",
       "       [43, 50]])"
      ]
     },
     "execution_count": 96,
     "metadata": {},
     "output_type": "execute_result"
    }
   ],
   "source": [
    "# ○ Matrix dot product (matrix multiplication)\n",
    "dotProduct = array1.dot(array2)\n",
    "dotProduct"
   ]
  },
  {
   "cell_type": "code",
   "execution_count": 98,
   "id": "77fc24af-6f34-4640-ab4d-9c3441f4b787",
   "metadata": {},
   "outputs": [
    {
     "data": {
      "text/plain": [
       "array([[1, 3],\n",
       "       [2, 4]])"
      ]
     },
     "execution_count": 98,
     "metadata": {},
     "output_type": "execute_result"
    }
   ],
   "source": [
    "# Find the transpose of one of the matrices.\n",
    "array1.T"
   ]
  },
  {
   "cell_type": "code",
   "execution_count": 134,
   "id": "312e7769-a819-42e7-9145-42e7f3508bc8",
   "metadata": {},
   "outputs": [
    {
     "name": "stdout",
     "output_type": "stream",
     "text": [
      "2\n",
      "2\n",
      "Checks are ok. We can now get the inverse\n",
      "[[-2.   1. ]\n",
      " [ 1.5 -0.5]]\n"
     ]
    }
   ],
   "source": [
    "# Compute the inverse of a 2x2 matrix, if it exists.\n",
    "# Check that the number of columns equals the number of rows\n",
    "newArr = np.array([[1, 2], [3, 4]])\n",
    "rows, columns = newArr.shape\n",
    "print(rows)\n",
    "print(columns)\n",
    "if rows == columns:\n",
    "    # Check that the determinant is not equal 0\n",
    "    if np.linalg.det(newArr) != 0:\n",
    "        print (\"Checks are ok. We can now get the inverse\")\n",
    "        print(np.linalg.inv(newArr))\n",
    "    else:\n",
    "        print(\"Inverse cannot be calculated because the determinant is equal to zero.\")\n",
    "else:\n",
    "    print(\"Inverse cannot be calculated because the matrix's rows and columns are not equal.\")"
   ]
  },
  {
   "cell_type": "markdown",
   "id": "de7b3c86-7448-40db-a1a3-820ec66503ad",
   "metadata": {},
   "source": [
    "# Problem 3"
   ]
  },
  {
   "cell_type": "code",
   "execution_count": 161,
   "id": "b16b732c-e553-42a0-ae33-20041e8f9a69",
   "metadata": {},
   "outputs": [
    {
     "data": {
      "text/plain": [
       "array([[83, 29, 11],\n",
       "       [ 8, 24, 59],\n",
       "       [75, 36, 20]])"
      ]
     },
     "execution_count": 161,
     "metadata": {},
     "output_type": "execute_result"
    }
   ],
   "source": [
    "# ● Create a 3x3 matrix and find its determinant.\n",
    "myArray = np.random.randint(1, 100, size=(3, 3))\n",
    "myArray"
   ]
  },
  {
   "cell_type": "code",
   "execution_count": 163,
   "id": "c054920c-18c3-4016-b2d5-ab31902d9349",
   "metadata": {},
   "outputs": [
    {
     "data": {
      "text/plain": [
       "-29398.99999999997"
      ]
     },
     "execution_count": 163,
     "metadata": {},
     "output_type": "execute_result"
    }
   ],
   "source": [
    "np.linalg.det(myArray)"
   ]
  },
  {
   "cell_type": "code",
   "execution_count": 165,
   "id": "d9187503-d1df-4448-9f90-4e4c80195595",
   "metadata": {},
   "outputs": [
    {
     "data": {
      "text/plain": [
       "3"
      ]
     },
     "execution_count": 165,
     "metadata": {},
     "output_type": "execute_result"
    }
   ],
   "source": [
    "np.linalg.matrix_rank(myArray)"
   ]
  },
  {
   "cell_type": "markdown",
   "id": "b21b4d92-d859-480e-8b60-51545cf3762b",
   "metadata": {},
   "source": [
    "# Problem 4"
   ]
  },
  {
   "cell_type": "code",
   "execution_count": 219,
   "id": "57816025-31e5-4de7-a7e9-9e9ed62a5d43",
   "metadata": {},
   "outputs": [
    {
     "ename": "LinAlgError",
     "evalue": "Singular matrix",
     "output_type": "error",
     "traceback": [
      "\u001b[0;31m---------------------------------------------------------------------------\u001b[0m",
      "\u001b[0;31mLinAlgError\u001b[0m                               Traceback (most recent call last)",
      "Cell \u001b[0;32mIn[219], line 15\u001b[0m\n\u001b[1;32m     12\u001b[0m b \u001b[38;5;241m=\u001b[39m np\u001b[38;5;241m.\u001b[39marray([\u001b[38;5;241m5\u001b[39m, \u001b[38;5;241m10\u001b[39m])\n\u001b[1;32m     14\u001b[0m \u001b[38;5;66;03m# solve the system of linear equations Ax = b\u001b[39;00m\n\u001b[0;32m---> 15\u001b[0m x \u001b[38;5;241m=\u001b[39m np\u001b[38;5;241m.\u001b[39mlinalg\u001b[38;5;241m.\u001b[39msolve(a, b)\n\u001b[1;32m     17\u001b[0m \u001b[38;5;28mprint\u001b[39m(x)\n",
      "File \u001b[0;32m/opt/anaconda3/lib/python3.12/site-packages/numpy/linalg/linalg.py:409\u001b[0m, in \u001b[0;36msolve\u001b[0;34m(a, b)\u001b[0m\n\u001b[1;32m    407\u001b[0m signature \u001b[38;5;241m=\u001b[39m \u001b[38;5;124m'\u001b[39m\u001b[38;5;124mDD->D\u001b[39m\u001b[38;5;124m'\u001b[39m \u001b[38;5;28;01mif\u001b[39;00m isComplexType(t) \u001b[38;5;28;01melse\u001b[39;00m \u001b[38;5;124m'\u001b[39m\u001b[38;5;124mdd->d\u001b[39m\u001b[38;5;124m'\u001b[39m\n\u001b[1;32m    408\u001b[0m extobj \u001b[38;5;241m=\u001b[39m get_linalg_error_extobj(_raise_linalgerror_singular)\n\u001b[0;32m--> 409\u001b[0m r \u001b[38;5;241m=\u001b[39m gufunc(a, b, signature\u001b[38;5;241m=\u001b[39msignature, extobj\u001b[38;5;241m=\u001b[39mextobj)\n\u001b[1;32m    411\u001b[0m \u001b[38;5;28;01mreturn\u001b[39;00m wrap(r\u001b[38;5;241m.\u001b[39mastype(result_t, copy\u001b[38;5;241m=\u001b[39m\u001b[38;5;28;01mFalse\u001b[39;00m))\n",
      "File \u001b[0;32m/opt/anaconda3/lib/python3.12/site-packages/numpy/linalg/linalg.py:112\u001b[0m, in \u001b[0;36m_raise_linalgerror_singular\u001b[0;34m(err, flag)\u001b[0m\n\u001b[1;32m    111\u001b[0m \u001b[38;5;28;01mdef\u001b[39;00m \u001b[38;5;21m_raise_linalgerror_singular\u001b[39m(err, flag):\n\u001b[0;32m--> 112\u001b[0m     \u001b[38;5;28;01mraise\u001b[39;00m LinAlgError(\u001b[38;5;124m\"\u001b[39m\u001b[38;5;124mSingular matrix\u001b[39m\u001b[38;5;124m\"\u001b[39m)\n",
      "\u001b[0;31mLinAlgError\u001b[0m: Singular matrix"
     ]
    }
   ],
   "source": [
    "# Solving a System of Linear Equations:\n",
    "# ● Given the system of equations:\n",
    "#   ○ 2x+3y= 5\n",
    "#   ○ 4x + 6y = 10\n",
    "# Solve this system using NumPy's linear algebra functions\n",
    "\n",
    "# define the coefficient matrix A\n",
    "a = np.array([[2, 3], \n",
    "             [4, 6]])\n",
    "\n",
    "# define the constant vector b\n",
    "b = np.array([5, 10])\n",
    "\n",
    "# solve the system of linear equations Ax = b\n",
    "x = np.linalg.solve(a, b)\n",
    "\n",
    "print(x) # Has no resolution as det of a is zero. Both are the same equation, essentially.\n",
    "\n"
   ]
  },
  {
   "cell_type": "markdown",
   "id": "fe3d37ca-8caa-4348-a032-151f54729171",
   "metadata": {},
   "source": [
    "# Problem 5"
   ]
  },
  {
   "cell_type": "code",
   "execution_count": null,
   "id": "db14b094-29db-41dc-8d36-ccae2c62954c",
   "metadata": {},
   "outputs": [],
   "source": []
  },
  {
   "cell_type": "code",
   "execution_count": 215,
   "id": "76887a21-7a41-4fb0-bf1f-190abac7f421",
   "metadata": {},
   "outputs": [
    {
     "name": "stdout",
     "output_type": "stream",
     "text": [
      "[[ 7 11  1 19  2]\n",
      " [ 8 11 24 15  1]\n",
      " [23  7 21  4 17]\n",
      " [ 9 12 14 10  7]\n",
      " [ 4 11 24 14  7]]\n",
      "\n",
      "[[21  4 17]\n",
      " [14 10  7]\n",
      " [24 14  7]]\n"
     ]
    }
   ],
   "source": [
    "# Create a 5x5 matrix of integers from 1 to 25.\n",
    "fiveArray = np.random.randint(1, 26, size=(5, 5))\n",
    "print(fiveArray)\n",
    "print()\n",
    "#Extract the submatrix consisting of rows 2 to 4 and columns 2 to 4.\n",
    "print(fiveArray[2:5, 2:5])\n"
   ]
  },
  {
   "cell_type": "code",
   "execution_count": 217,
   "id": "9cd9350f-42f7-421d-a7fc-670f9424cea0",
   "metadata": {},
   "outputs": [
    {
     "data": {
      "text/plain": [
       "array([[ 0, 11,  1, 19,  2],\n",
       "       [ 8,  0, 24, 15,  1],\n",
       "       [23,  7,  0,  4, 17],\n",
       "       [ 9, 12, 14,  0,  7],\n",
       "       [ 4, 11, 24, 14,  0]])"
      ]
     },
     "execution_count": 217,
     "metadata": {},
     "output_type": "execute_result"
    }
   ],
   "source": [
    "# ● Set the diagonal elements of the matrix to 0.\n",
    "np.fill_diagonal(fiveArray, 0)\n",
    "fiveArray"
   ]
  }
 ],
 "metadata": {
  "kernelspec": {
   "display_name": "Python [conda env:base] *",
   "language": "python",
   "name": "conda-base-py"
  },
  "language_info": {
   "codemirror_mode": {
    "name": "ipython",
    "version": 3
   },
   "file_extension": ".py",
   "mimetype": "text/x-python",
   "name": "python",
   "nbconvert_exporter": "python",
   "pygments_lexer": "ipython3",
   "version": "3.12.7"
  }
 },
 "nbformat": 4,
 "nbformat_minor": 5
}
