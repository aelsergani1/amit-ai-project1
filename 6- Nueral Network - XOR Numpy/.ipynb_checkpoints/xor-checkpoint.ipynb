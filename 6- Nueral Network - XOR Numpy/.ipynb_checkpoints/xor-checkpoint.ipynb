{
 "cells": [
  {
   "cell_type": "code",
   "execution_count": 8,
   "metadata": {},
   "outputs": [],
   "source": [
    "import numpy as np\n",
    "\n",
    "def sigmoid(x):\n",
    "    return 1 / (1 + np.exp(-x))\n",
    "\n",
    "def sigmoid_derivative(x):\n",
    "    return x * (1 - x)"
   ]
  },
  {
   "cell_type": "code",
   "execution_count": 10,
   "metadata": {},
   "outputs": [],
   "source": [
    "class NeuralNetwork:\n",
    "    def __init__(self, input_neurons, hidden_neurons, output_neurons):\n",
    "        self.weights_input_hidden = np.random.randn(input_neurons, hidden_neurons)\n",
    "        self.bias_hidden = np.random.randn(1, hidden_neurons)\n",
    "        self.weights_hidden_output = np.random.randn(hidden_neurons, output_neurons)\n",
    "        self.bias_output = np.random.randn(1, output_neurons)\n",
    "\n",
    "    def train(self, X, y, learning_rate=0.001, epochs=10000):\n",
    "        for epoch in range(epochs):\n",
    "            # Forward pass\n",
    "            hidden_layer_input = np.dot(X, self.weights_input_hidden) + self.bias_hidden\n",
    "            hidden_layer_output = sigmoid(hidden_layer_input)\n",
    "            output_layer_input = np.dot(hidden_layer_output, self.weights_hidden_output) + self.bias_output\n",
    "            output_layer_output = sigmoid(output_layer_input)\n",
    "            error = y - output_layer_output\n",
    "            d_output = error * sigmoid_derivative(output_layer_output)\n",
    "            d_hidden = np.dot(d_output, self.weights_hidden_output.T) * sigmoid_derivative(hidden_layer_output)\n",
    "            self.weights_hidden_output += learning_rate * np.dot(hidden_layer_output.T, d_output)\n",
    "            self.bias_output += learning_rate * np.sum(d_output, axis=0, keepdims=True)\n",
    "            self.weights_input_hidden += learning_rate * np.dot(X.T, d_hidden)\n",
    "            self.bias_hidden += learning_rate * np.sum(d_hidden, axis=0, keepdims=True)\n",
    "\n",
    "    def predict(self, X):\n",
    "        hidden_layer_input = np.dot(X, self.weights_input_hidden) + self.bias_hidden\n",
    "        hidden_layer_output = sigmoid(hidden_layer_input)\n",
    "        output_layer_input = np.dot(hidden_layer_output, self.weights_hidden_output) + self.bias_output\n",
    "        output_layer_output = sigmoid(output_layer_input)\n",
    "        return output_layer_output\n",
    "            "
   ]
  },
  {
   "cell_type": "code",
   "execution_count": 12,
   "metadata": {},
   "outputs": [],
   "source": [
    "nn = NeuralNetwork(input_neurons=2, hidden_neurons=2, output_neurons=1)\n",
    "\n",
    "# XOR input and output\n",
    "train_input = np.array([[0, 0], [0, 1], [1, 0], [1, 1]])\n",
    "train_output = np.array([[0], [1], [1], [0]])\n",
    "\n",
    "nn.train(train_input, train_output)"
   ]
  },
  {
   "cell_type": "code",
   "execution_count": null,
   "metadata": {},
   "outputs": [],
   "source": [
    "test_input = [0, 0]\n",
    "nn.predict(test_input)"
   ]
  },
  {
   "cell_type": "code",
   "execution_count": null,
   "metadata": {},
   "outputs": [],
   "source": []
  }
 ],
 "metadata": {
  "kernelspec": {
   "display_name": "Python [conda env:base] *",
   "language": "python",
   "name": "conda-base-py"
  },
  "language_info": {
   "codemirror_mode": {
    "name": "ipython",
    "version": 3
   },
   "file_extension": ".py",
   "mimetype": "text/x-python",
   "name": "python",
   "nbconvert_exporter": "python",
   "pygments_lexer": "ipython3",
   "version": "3.12.7"
  }
 },
 "nbformat": 4,
 "nbformat_minor": 4
}
