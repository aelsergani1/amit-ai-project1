{
  "nbformat": 4,
  "nbformat_minor": 0,
  "metadata": {
    "colab": {
      "provenance": [],
      "gpuType": "T4"
    },
    "kernelspec": {
      "name": "python3",
      "display_name": "Python 3"
    },
    "language_info": {
      "name": "python"
    },
    "accelerator": "GPU"
  },
  "cells": [
    {
      "cell_type": "code",
      "source": [
        "import os\n",
        "from pydrive.auth import GoogleAuth\n",
        "from pydrive.drive import GoogleDrive\n",
        "from google.colab import auth\n",
        "from oauth2client.client import GoogleCredentials\n",
        "from tensorflow.keras.layers import GlobalAveragePooling2D, Dense, Dropout\n",
        "from tensorflow.keras.models import Model\n",
        "from tensorflow.keras.optimizers import Adam\n",
        "from tensorflow.keras.applications import ResNet50"
      ],
      "metadata": {
        "id": "L1JMRsGNkxCN"
      },
      "execution_count": null,
      "outputs": []
    },
    {
      "cell_type": "code",
      "source": [
        "auth.authenticate_user()\n",
        "gauth = GoogleAuth()\n",
        "gauth.credentials = GoogleCredentials.get_application_default()\n",
        "drive = GoogleDrive(gauth)"
      ],
      "metadata": {
        "id": "L9-0B5Uokzi6"
      },
      "execution_count": null,
      "outputs": []
    },
    {
      "cell_type": "code",
      "source": [
        "download = drive.CreateFile({'id': '19lWsG9i0fYz7mqoULzvODKyIyQLuCTVS'})\n",
        "download.GetContentFile('fruits-dataset.zip')"
      ],
      "metadata": {
        "id": "fBUo17ngkzgH"
      },
      "execution_count": null,
      "outputs": []
    },
    {
      "cell_type": "code",
      "source": [
        "import zipfile\n",
        "import io\n",
        "data = zipfile.ZipFile('fruits-dataset.zip', 'r')\n",
        "data.extractall()\n",
        "\n",
        "os.rename('archive', 'fruits-dataset') # Just renaming the unzipped folder as it was zipped under the name archive"
      ],
      "metadata": {
        "id": "0U30ajFrkzdW"
      },
      "execution_count": null,
      "outputs": []
    },
    {
      "cell_type": "code",
      "source": [
        "base_model = ResNet50(weights='imagenet', include_top=False, input_shape=(224, 224, 3)) # the input shape here is what imagenet is trained on\n",
        "\n",
        "# Freeze the base model layers so they are not updated during training\n",
        "base_model.trainable = False"
      ],
      "metadata": {
        "colab": {
          "base_uri": "https://localhost:8080/"
        },
        "id": "9mYXw9xMkzaf",
        "outputId": "dbdfb4e7-6946-4270-d2fa-12e822f4e707"
      },
      "execution_count": null,
      "outputs": [
        {
          "output_type": "stream",
          "name": "stdout",
          "text": [
            "Downloading data from https://storage.googleapis.com/tensorflow/keras-applications/resnet/resnet50_weights_tf_dim_ordering_tf_kernels_notop.h5\n",
            "\u001b[1m94765736/94765736\u001b[0m \u001b[32m━━━━━━━━━━━━━━━━━━━━\u001b[0m\u001b[37m\u001b[0m \u001b[1m5s\u001b[0m 0us/step\n"
          ]
        }
      ]
    },
    {
      "cell_type": "code",
      "source": [
        "x = base_model.output\n",
        "x = GlobalAveragePooling2D()(x)  # Convert feature maps to a single vector\n",
        "x = Dense(512, activation='relu')(x)  # Fully connected layer\n",
        "x = Dropout(0.5)(x)  # Prevent overfitting\n",
        "x = Dense(256, activation='relu')(x)\n",
        "\n",
        "\n",
        "num_classes = 33  # Change this based on your dataset\n",
        "\n",
        "# Output layer (change the units based on your number of classes)\n",
        "output_layer = Dense(num_classes, activation='softmax')(x)  # Softmax for multi-class\n",
        "\n",
        "# Define new model\n",
        "model = Model(inputs=base_model.input, outputs=output_layer)"
      ],
      "metadata": {
        "id": "0jSu2gdLkzXs"
      },
      "execution_count": null,
      "outputs": []
    },
    {
      "cell_type": "code",
      "source": [
        "model.compile(optimizer=Adam(learning_rate=0.0001),\n",
        "              loss='categorical_crossentropy',\n",
        "              metrics=['accuracy'])"
      ],
      "metadata": {
        "id": "m3Zr4IQbkzVW"
      },
      "execution_count": null,
      "outputs": []
    },
    {
      "cell_type": "code",
      "source": [
        "from tensorflow.keras.preprocessing.image import ImageDataGenerator\n",
        "\n",
        "batch_size=32 # Change to 16 or 8\n",
        "\n",
        "train_datagen = ImageDataGenerator(rescale=1./255)\n",
        "val_datagen = ImageDataGenerator(rescale=1./255)\n",
        "\n",
        "train_generator = train_datagen.flow_from_directory(\n",
        "    'fruits-dataset/train/train',\n",
        "    target_size=(224, 224),\n",
        "    batch_size=batch_size,\n",
        "    class_mode='categorical')\n",
        "\n",
        "# val_generator = val_datagen.flow_from_directory(\n",
        "#     'path/to/val',\n",
        "#     target_size=(224, 224),\n",
        "#     batch_size=batch_size,\n",
        "#     class_mode='categorical')\n",
        "\n",
        "# model.fit(train_generator, validation_data=val_generator, epochs=10)\n",
        "model.fit(train_generator, epochs=10)"
      ],
      "metadata": {
        "colab": {
          "base_uri": "https://localhost:8080/"
        },
        "id": "y9dGXhMekzOk",
        "outputId": "27f7e22d-3664-410e-b167-8af24ba0cfa4"
      },
      "execution_count": null,
      "outputs": [
        {
          "output_type": "stream",
          "name": "stdout",
          "text": [
            "Found 16854 images belonging to 33 classes.\n",
            "Epoch 1/10\n"
          ]
        },
        {
          "output_type": "stream",
          "name": "stderr",
          "text": [
            "/usr/local/lib/python3.11/dist-packages/keras/src/trainers/data_adapters/py_dataset_adapter.py:121: UserWarning: Your `PyDataset` class should call `super().__init__(**kwargs)` in its constructor. `**kwargs` can include `workers`, `use_multiprocessing`, `max_queue_size`. Do not pass these arguments to `fit()`, as they will be ignored.\n",
            "  self._warn_if_super_not_called()\n"
          ]
        },
        {
          "output_type": "stream",
          "name": "stdout",
          "text": [
            "\u001b[1m527/527\u001b[0m \u001b[32m━━━━━━━━━━━━━━━━━━━━\u001b[0m\u001b[37m\u001b[0m \u001b[1m64s\u001b[0m 92ms/step - accuracy: 0.0475 - loss: 3.5391\n",
            "Epoch 2/10\n",
            "\u001b[1m527/527\u001b[0m \u001b[32m━━━━━━━━━━━━━━━━━━━━\u001b[0m\u001b[37m\u001b[0m \u001b[1m45s\u001b[0m 85ms/step - accuracy: 0.1161 - loss: 3.2765\n",
            "Epoch 3/10\n",
            "\u001b[1m527/527\u001b[0m \u001b[32m━━━━━━━━━━━━━━━━━━━━\u001b[0m\u001b[37m\u001b[0m \u001b[1m83s\u001b[0m 86ms/step - accuracy: 0.2075 - loss: 2.8193\n",
            "Epoch 4/10\n",
            "\u001b[1m527/527\u001b[0m \u001b[32m━━━━━━━━━━━━━━━━━━━━\u001b[0m\u001b[37m\u001b[0m \u001b[1m45s\u001b[0m 85ms/step - accuracy: 0.3293 - loss: 2.3296\n",
            "Epoch 5/10\n",
            "\u001b[1m527/527\u001b[0m \u001b[32m━━━━━━━━━━━━━━━━━━━━\u001b[0m\u001b[37m\u001b[0m \u001b[1m45s\u001b[0m 85ms/step - accuracy: 0.4410 - loss: 1.9538\n",
            "Epoch 6/10\n",
            "\u001b[1m527/527\u001b[0m \u001b[32m━━━━━━━━━━━━━━━━━━━━\u001b[0m\u001b[37m\u001b[0m \u001b[1m45s\u001b[0m 86ms/step - accuracy: 0.5190 - loss: 1.6688\n",
            "Epoch 7/10\n",
            "\u001b[1m527/527\u001b[0m \u001b[32m━━━━━━━━━━━━━━━━━━━━\u001b[0m\u001b[37m\u001b[0m \u001b[1m45s\u001b[0m 85ms/step - accuracy: 0.5829 - loss: 1.4366\n",
            "Epoch 8/10\n",
            "\u001b[1m527/527\u001b[0m \u001b[32m━━━━━━━━━━━━━━━━━━━━\u001b[0m\u001b[37m\u001b[0m \u001b[1m82s\u001b[0m 86ms/step - accuracy: 0.6328 - loss: 1.2524\n",
            "Epoch 9/10\n",
            "\u001b[1m527/527\u001b[0m \u001b[32m━━━━━━━━━━━━━━━━━━━━\u001b[0m\u001b[37m\u001b[0m \u001b[1m45s\u001b[0m 85ms/step - accuracy: 0.6714 - loss: 1.1287\n",
            "Epoch 10/10\n",
            "\u001b[1m527/527\u001b[0m \u001b[32m━━━━━━━━━━━━━━━━━━━━\u001b[0m\u001b[37m\u001b[0m \u001b[1m45s\u001b[0m 86ms/step - accuracy: 0.6961 - loss: 1.0177\n"
          ]
        },
        {
          "output_type": "execute_result",
          "data": {
            "text/plain": [
              "<keras.src.callbacks.history.History at 0x7d68d0795790>"
            ]
          },
          "metadata": {},
          "execution_count": 11
        }
      ]
    },
    {
      "cell_type": "code",
      "source": [
        "# Save the full model\n",
        "model.save(\"fruit_classification_model_transfer_training.keras\")"
      ],
      "metadata": {
        "id": "7iWRri_3sj37"
      },
      "execution_count": null,
      "outputs": []
    },
    {
      "cell_type": "code",
      "source": [
        "class_indices = train_generator.class_indices  # Dictionary mapping class names to indices\n",
        "index_to_class = {v: k for k, v in class_indices.items()}  # Reverse mapping\n",
        "index_to_class"
      ],
      "metadata": {
        "colab": {
          "base_uri": "https://localhost:8080/"
        },
        "id": "YYhk04Zdsj10",
        "outputId": "41b800a2-ab50-46af-c175-cc63d40a161b"
      },
      "execution_count": null,
      "outputs": [
        {
          "output_type": "execute_result",
          "data": {
            "text/plain": [
              "{0: 'Apple Braeburn',\n",
              " 1: 'Apple Granny Smith',\n",
              " 2: 'Apricot',\n",
              " 3: 'Avocado',\n",
              " 4: 'Banana',\n",
              " 5: 'Blueberry',\n",
              " 6: 'Cactus fruit',\n",
              " 7: 'Cantaloupe',\n",
              " 8: 'Cherry',\n",
              " 9: 'Clementine',\n",
              " 10: 'Corn',\n",
              " 11: 'Cucumber Ripe',\n",
              " 12: 'Grape Blue',\n",
              " 13: 'Kiwi',\n",
              " 14: 'Lemon',\n",
              " 15: 'Limes',\n",
              " 16: 'Mango',\n",
              " 17: 'Onion White',\n",
              " 18: 'Orange',\n",
              " 19: 'Papaya',\n",
              " 20: 'Passion Fruit',\n",
              " 21: 'Peach',\n",
              " 22: 'Pear',\n",
              " 23: 'Pepper Green',\n",
              " 24: 'Pepper Red',\n",
              " 25: 'Pineapple',\n",
              " 26: 'Plum',\n",
              " 27: 'Pomegranate',\n",
              " 28: 'Potato Red',\n",
              " 29: 'Raspberry',\n",
              " 30: 'Strawberry',\n",
              " 31: 'Tomato',\n",
              " 32: 'Watermelon'}"
            ]
          },
          "metadata": {},
          "execution_count": 13
        }
      ]
    },
    {
      "cell_type": "code",
      "source": [
        "import numpy as np\n",
        "from tensorflow.keras.preprocessing import image\n",
        "\n",
        "def predict_fruit(image_path, model, index_to_class, image_size=224):\n",
        "    img = image.load_img(image_path, target_size=(image_size, image_size))\n",
        "    img_array = image.img_to_array(img)\n",
        "    img_array = np.expand_dims(img_array, axis=0) / 255.0  # Normalize\n",
        "\n",
        "    predictions = model.predict(img_array)\n",
        "    predicted_class_index = np.argmax(predictions)\n",
        "    predicted_class_name = index_to_class[predicted_class_index]\n",
        "\n",
        "    return predicted_class_name\n",
        "\n",
        "# Example usage:\n",
        "# image_path = \"path_to_test_image.jpg\"\n",
        "# print(\"Predicted fruit:\", predict_fruit(image_path, model, index_to_class))"
      ],
      "metadata": {
        "id": "CaPad7drsjyE"
      },
      "execution_count": null,
      "outputs": []
    },
    {
      "cell_type": "code",
      "source": [
        "train_dir = 'fruits-dataset/train/train'\n",
        "# validation_dir = 'fruits-dataset/validate/validate'\n",
        "test_dir = 'fruits-dataset/test/test'"
      ],
      "metadata": {
        "id": "8GA8_UDUs45_"
      },
      "execution_count": null,
      "outputs": []
    },
    {
      "cell_type": "code",
      "source": [
        "import pandas as pd\n",
        "import os\n",
        "\n",
        "# print(os.listdir(test_dir))\n",
        "max_count = 100\n",
        "count = 0\n",
        "results = []\n",
        "for fruit_file in os.listdir(test_dir):\n",
        "    if count > max_count:\n",
        "        break\n",
        "    if fruit_file.lower().endswith(('.jpg', '.jpeg', '.png')):\n",
        "        count += 1\n",
        "        image_path = os.path.join(test_dir, fruit_file)\n",
        "        # image_path = os.path.join(fruit_folder, image_file)\n",
        "        predicted_class = predict_fruit(image_path, model, index_to_class)\n",
        "        tempResult = {\"image\": fruit_file, \"actual_class\": image_path, \"predicted_class\": predicted_class}\n",
        "        print(tempResult)\n",
        "        results.append(tempResult)\n",
        "\n",
        "# Convert results to a DataFrame for analysis\n",
        "df_results = pd.DataFrame(results)\n",
        "print(df_results)"
      ],
      "metadata": {
        "colab": {
          "base_uri": "https://localhost:8080/"
        },
        "id": "6cBWanJEsjrT",
        "outputId": "a3d98ddc-76b6-493d-812a-a54dd345d3fd"
      },
      "execution_count": null,
      "outputs": [
        {
          "output_type": "stream",
          "name": "stdout",
          "text": [
            "\u001b[1m1/1\u001b[0m \u001b[32m━━━━━━━━━━━━━━━━━━━━\u001b[0m\u001b[37m\u001b[0m \u001b[1m4s\u001b[0m 4s/step\n",
            "{'image': '0307.jpg', 'actual_class': 'fruits-dataset/test/test/0307.jpg', 'predicted_class': 'Pineapple'}\n",
            "\u001b[1m1/1\u001b[0m \u001b[32m━━━━━━━━━━━━━━━━━━━━\u001b[0m\u001b[37m\u001b[0m \u001b[1m0s\u001b[0m 37ms/step\n",
            "{'image': '4921.jpg', 'actual_class': 'fruits-dataset/test/test/4921.jpg', 'predicted_class': 'Papaya'}\n",
            "\u001b[1m1/1\u001b[0m \u001b[32m━━━━━━━━━━━━━━━━━━━━\u001b[0m\u001b[37m\u001b[0m \u001b[1m0s\u001b[0m 44ms/step\n",
            "{'image': '2181.jpg', 'actual_class': 'fruits-dataset/test/test/2181.jpg', 'predicted_class': 'Pineapple'}\n",
            "\u001b[1m1/1\u001b[0m \u001b[32m━━━━━━━━━━━━━━━━━━━━\u001b[0m\u001b[37m\u001b[0m \u001b[1m0s\u001b[0m 46ms/step\n",
            "{'image': '0870.jpg', 'actual_class': 'fruits-dataset/test/test/0870.jpg', 'predicted_class': 'Apple Granny Smith'}\n",
            "\u001b[1m1/1\u001b[0m \u001b[32m━━━━━━━━━━━━━━━━━━━━\u001b[0m\u001b[37m\u001b[0m \u001b[1m0s\u001b[0m 42ms/step\n",
            "{'image': '3958.jpg', 'actual_class': 'fruits-dataset/test/test/3958.jpg', 'predicted_class': 'Onion White'}\n",
            "\u001b[1m1/1\u001b[0m \u001b[32m━━━━━━━━━━━━━━━━━━━━\u001b[0m\u001b[37m\u001b[0m \u001b[1m0s\u001b[0m 43ms/step\n",
            "{'image': '4929.jpg', 'actual_class': 'fruits-dataset/test/test/4929.jpg', 'predicted_class': 'Blueberry'}\n",
            "\u001b[1m1/1\u001b[0m \u001b[32m━━━━━━━━━━━━━━━━━━━━\u001b[0m\u001b[37m\u001b[0m \u001b[1m0s\u001b[0m 40ms/step\n",
            "{'image': '4370.jpg', 'actual_class': 'fruits-dataset/test/test/4370.jpg', 'predicted_class': 'Strawberry'}\n",
            "\u001b[1m1/1\u001b[0m \u001b[32m━━━━━━━━━━━━━━━━━━━━\u001b[0m\u001b[37m\u001b[0m \u001b[1m0s\u001b[0m 40ms/step\n",
            "{'image': '0813.jpg', 'actual_class': 'fruits-dataset/test/test/0813.jpg', 'predicted_class': 'Lemon'}\n",
            "\u001b[1m1/1\u001b[0m \u001b[32m━━━━━━━━━━━━━━━━━━━━\u001b[0m\u001b[37m\u001b[0m \u001b[1m0s\u001b[0m 40ms/step\n",
            "{'image': '1501.jpg', 'actual_class': 'fruits-dataset/test/test/1501.jpg', 'predicted_class': 'Kiwi'}\n",
            "\u001b[1m1/1\u001b[0m \u001b[32m━━━━━━━━━━━━━━━━━━━━\u001b[0m\u001b[37m\u001b[0m \u001b[1m0s\u001b[0m 47ms/step\n",
            "{'image': '4418.jpg', 'actual_class': 'fruits-dataset/test/test/4418.jpg', 'predicted_class': 'Pear'}\n",
            "\u001b[1m1/1\u001b[0m \u001b[32m━━━━━━━━━━━━━━━━━━━━\u001b[0m\u001b[37m\u001b[0m \u001b[1m0s\u001b[0m 40ms/step\n",
            "{'image': '5421.jpg', 'actual_class': 'fruits-dataset/test/test/5421.jpg', 'predicted_class': 'Mango'}\n",
            "\u001b[1m1/1\u001b[0m \u001b[32m━━━━━━━━━━━━━━━━━━━━\u001b[0m\u001b[37m\u001b[0m \u001b[1m0s\u001b[0m 40ms/step\n",
            "{'image': '0658.jpg', 'actual_class': 'fruits-dataset/test/test/0658.jpg', 'predicted_class': 'Pepper Red'}\n",
            "\u001b[1m1/1\u001b[0m \u001b[32m━━━━━━━━━━━━━━━━━━━━\u001b[0m\u001b[37m\u001b[0m \u001b[1m0s\u001b[0m 49ms/step\n",
            "{'image': '5288.jpg', 'actual_class': 'fruits-dataset/test/test/5288.jpg', 'predicted_class': 'Avocado'}\n",
            "\u001b[1m1/1\u001b[0m \u001b[32m━━━━━━━━━━━━━━━━━━━━\u001b[0m\u001b[37m\u001b[0m \u001b[1m0s\u001b[0m 43ms/step\n",
            "{'image': '1880.jpg', 'actual_class': 'fruits-dataset/test/test/1880.jpg', 'predicted_class': 'Onion White'}\n",
            "\u001b[1m1/1\u001b[0m \u001b[32m━━━━━━━━━━━━━━━━━━━━\u001b[0m\u001b[37m\u001b[0m \u001b[1m0s\u001b[0m 44ms/step\n",
            "{'image': '1346.jpg', 'actual_class': 'fruits-dataset/test/test/1346.jpg', 'predicted_class': 'Plum'}\n",
            "\u001b[1m1/1\u001b[0m \u001b[32m━━━━━━━━━━━━━━━━━━━━\u001b[0m\u001b[37m\u001b[0m \u001b[1m0s\u001b[0m 43ms/step\n",
            "{'image': '0236.jpg', 'actual_class': 'fruits-dataset/test/test/0236.jpg', 'predicted_class': 'Cactus fruit'}\n",
            "\u001b[1m1/1\u001b[0m \u001b[32m━━━━━━━━━━━━━━━━━━━━\u001b[0m\u001b[37m\u001b[0m \u001b[1m0s\u001b[0m 41ms/step\n",
            "{'image': '1086.jpg', 'actual_class': 'fruits-dataset/test/test/1086.jpg', 'predicted_class': 'Blueberry'}\n",
            "\u001b[1m1/1\u001b[0m \u001b[32m━━━━━━━━━━━━━━━━━━━━\u001b[0m\u001b[37m\u001b[0m \u001b[1m0s\u001b[0m 41ms/step\n",
            "{'image': '1867.jpg', 'actual_class': 'fruits-dataset/test/test/1867.jpg', 'predicted_class': 'Limes'}\n",
            "\u001b[1m1/1\u001b[0m \u001b[32m━━━━━━━━━━━━━━━━━━━━\u001b[0m\u001b[37m\u001b[0m \u001b[1m0s\u001b[0m 43ms/step\n",
            "{'image': '1547.jpg', 'actual_class': 'fruits-dataset/test/test/1547.jpg', 'predicted_class': 'Mango'}\n",
            "\u001b[1m1/1\u001b[0m \u001b[32m━━━━━━━━━━━━━━━━━━━━\u001b[0m\u001b[37m\u001b[0m \u001b[1m0s\u001b[0m 46ms/step\n",
            "{'image': '0435.jpg', 'actual_class': 'fruits-dataset/test/test/0435.jpg', 'predicted_class': 'Apple Granny Smith'}\n",
            "\u001b[1m1/1\u001b[0m \u001b[32m━━━━━━━━━━━━━━━━━━━━\u001b[0m\u001b[37m\u001b[0m \u001b[1m0s\u001b[0m 45ms/step\n",
            "{'image': '2983.jpg', 'actual_class': 'fruits-dataset/test/test/2983.jpg', 'predicted_class': 'Orange'}\n",
            "\u001b[1m1/1\u001b[0m \u001b[32m━━━━━━━━━━━━━━━━━━━━\u001b[0m\u001b[37m\u001b[0m \u001b[1m0s\u001b[0m 42ms/step\n",
            "{'image': '5369.jpg', 'actual_class': 'fruits-dataset/test/test/5369.jpg', 'predicted_class': 'Tomato'}\n",
            "\u001b[1m1/1\u001b[0m \u001b[32m━━━━━━━━━━━━━━━━━━━━\u001b[0m\u001b[37m\u001b[0m \u001b[1m0s\u001b[0m 45ms/step\n",
            "{'image': '1789.jpg', 'actual_class': 'fruits-dataset/test/test/1789.jpg', 'predicted_class': 'Cherry'}\n",
            "\u001b[1m1/1\u001b[0m \u001b[32m━━━━━━━━━━━━━━━━━━━━\u001b[0m\u001b[37m\u001b[0m \u001b[1m0s\u001b[0m 40ms/step\n",
            "{'image': '5222.jpg', 'actual_class': 'fruits-dataset/test/test/5222.jpg', 'predicted_class': 'Blueberry'}\n",
            "\u001b[1m1/1\u001b[0m \u001b[32m━━━━━━━━━━━━━━━━━━━━\u001b[0m\u001b[37m\u001b[0m \u001b[1m0s\u001b[0m 51ms/step\n",
            "{'image': '1284.jpg', 'actual_class': 'fruits-dataset/test/test/1284.jpg', 'predicted_class': 'Grape Blue'}\n",
            "\u001b[1m1/1\u001b[0m \u001b[32m━━━━━━━━━━━━━━━━━━━━\u001b[0m\u001b[37m\u001b[0m \u001b[1m0s\u001b[0m 40ms/step\n",
            "{'image': '0697.jpg', 'actual_class': 'fruits-dataset/test/test/0697.jpg', 'predicted_class': 'Pear'}\n",
            "\u001b[1m1/1\u001b[0m \u001b[32m━━━━━━━━━━━━━━━━━━━━\u001b[0m\u001b[37m\u001b[0m \u001b[1m0s\u001b[0m 42ms/step\n",
            "{'image': '3283.jpg', 'actual_class': 'fruits-dataset/test/test/3283.jpg', 'predicted_class': 'Plum'}\n",
            "\u001b[1m1/1\u001b[0m \u001b[32m━━━━━━━━━━━━━━━━━━━━\u001b[0m\u001b[37m\u001b[0m \u001b[1m0s\u001b[0m 41ms/step\n",
            "{'image': '3703.jpg', 'actual_class': 'fruits-dataset/test/test/3703.jpg', 'predicted_class': 'Mango'}\n",
            "\u001b[1m1/1\u001b[0m \u001b[32m━━━━━━━━━━━━━━━━━━━━\u001b[0m\u001b[37m\u001b[0m \u001b[1m0s\u001b[0m 44ms/step\n",
            "{'image': '4555.jpg', 'actual_class': 'fruits-dataset/test/test/4555.jpg', 'predicted_class': 'Papaya'}\n",
            "\u001b[1m1/1\u001b[0m \u001b[32m━━━━━━━━━━━━━━━━━━━━\u001b[0m\u001b[37m\u001b[0m \u001b[1m0s\u001b[0m 41ms/step\n",
            "{'image': '3886.jpg', 'actual_class': 'fruits-dataset/test/test/3886.jpg', 'predicted_class': 'Plum'}\n",
            "\u001b[1m1/1\u001b[0m \u001b[32m━━━━━━━━━━━━━━━━━━━━\u001b[0m\u001b[37m\u001b[0m \u001b[1m0s\u001b[0m 43ms/step\n",
            "{'image': '0173.jpg', 'actual_class': 'fruits-dataset/test/test/0173.jpg', 'predicted_class': 'Pepper Red'}\n",
            "\u001b[1m1/1\u001b[0m \u001b[32m━━━━━━━━━━━━━━━━━━━━\u001b[0m\u001b[37m\u001b[0m \u001b[1m0s\u001b[0m 61ms/step\n",
            "{'image': '5004.jpg', 'actual_class': 'fruits-dataset/test/test/5004.jpg', 'predicted_class': 'Mango'}\n",
            "\u001b[1m1/1\u001b[0m \u001b[32m━━━━━━━━━━━━━━━━━━━━\u001b[0m\u001b[37m\u001b[0m \u001b[1m0s\u001b[0m 55ms/step\n",
            "{'image': '2282.jpg', 'actual_class': 'fruits-dataset/test/test/2282.jpg', 'predicted_class': 'Pineapple'}\n",
            "\u001b[1m1/1\u001b[0m \u001b[32m━━━━━━━━━━━━━━━━━━━━\u001b[0m\u001b[37m\u001b[0m \u001b[1m0s\u001b[0m 60ms/step\n",
            "{'image': '4733.jpg', 'actual_class': 'fruits-dataset/test/test/4733.jpg', 'predicted_class': 'Cactus fruit'}\n",
            "\u001b[1m1/1\u001b[0m \u001b[32m━━━━━━━━━━━━━━━━━━━━\u001b[0m\u001b[37m\u001b[0m \u001b[1m0s\u001b[0m 57ms/step\n",
            "{'image': '1131.jpg', 'actual_class': 'fruits-dataset/test/test/1131.jpg', 'predicted_class': 'Strawberry'}\n",
            "\u001b[1m1/1\u001b[0m \u001b[32m━━━━━━━━━━━━━━━━━━━━\u001b[0m\u001b[37m\u001b[0m \u001b[1m0s\u001b[0m 54ms/step\n",
            "{'image': '0189.jpg', 'actual_class': 'fruits-dataset/test/test/0189.jpg', 'predicted_class': 'Kiwi'}\n",
            "\u001b[1m1/1\u001b[0m \u001b[32m━━━━━━━━━━━━━━━━━━━━\u001b[0m\u001b[37m\u001b[0m \u001b[1m0s\u001b[0m 57ms/step\n",
            "{'image': '1381.jpg', 'actual_class': 'fruits-dataset/test/test/1381.jpg', 'predicted_class': 'Apple Braeburn'}\n",
            "\u001b[1m1/1\u001b[0m \u001b[32m━━━━━━━━━━━━━━━━━━━━\u001b[0m\u001b[37m\u001b[0m \u001b[1m0s\u001b[0m 63ms/step\n",
            "{'image': '0382.jpg', 'actual_class': 'fruits-dataset/test/test/0382.jpg', 'predicted_class': 'Avocado'}\n",
            "\u001b[1m1/1\u001b[0m \u001b[32m━━━━━━━━━━━━━━━━━━━━\u001b[0m\u001b[37m\u001b[0m \u001b[1m0s\u001b[0m 77ms/step\n",
            "{'image': '0875.jpg', 'actual_class': 'fruits-dataset/test/test/0875.jpg', 'predicted_class': 'Cactus fruit'}\n",
            "\u001b[1m1/1\u001b[0m \u001b[32m━━━━━━━━━━━━━━━━━━━━\u001b[0m\u001b[37m\u001b[0m \u001b[1m0s\u001b[0m 54ms/step\n",
            "{'image': '2350.jpg', 'actual_class': 'fruits-dataset/test/test/2350.jpg', 'predicted_class': 'Pineapple'}\n",
            "\u001b[1m1/1\u001b[0m \u001b[32m━━━━━━━━━━━━━━━━━━━━\u001b[0m\u001b[37m\u001b[0m \u001b[1m0s\u001b[0m 60ms/step\n",
            "{'image': '5365.jpg', 'actual_class': 'fruits-dataset/test/test/5365.jpg', 'predicted_class': 'Limes'}\n",
            "\u001b[1m1/1\u001b[0m \u001b[32m━━━━━━━━━━━━━━━━━━━━\u001b[0m\u001b[37m\u001b[0m \u001b[1m0s\u001b[0m 71ms/step\n",
            "{'image': '1350.jpg', 'actual_class': 'fruits-dataset/test/test/1350.jpg', 'predicted_class': 'Pepper Red'}\n",
            "\u001b[1m1/1\u001b[0m \u001b[32m━━━━━━━━━━━━━━━━━━━━\u001b[0m\u001b[37m\u001b[0m \u001b[1m0s\u001b[0m 64ms/step\n",
            "{'image': '2917.jpg', 'actual_class': 'fruits-dataset/test/test/2917.jpg', 'predicted_class': 'Apple Braeburn'}\n",
            "\u001b[1m1/1\u001b[0m \u001b[32m━━━━━━━━━━━━━━━━━━━━\u001b[0m\u001b[37m\u001b[0m \u001b[1m0s\u001b[0m 55ms/step\n",
            "{'image': '0151.jpg', 'actual_class': 'fruits-dataset/test/test/0151.jpg', 'predicted_class': 'Apple Granny Smith'}\n",
            "\u001b[1m1/1\u001b[0m \u001b[32m━━━━━━━━━━━━━━━━━━━━\u001b[0m\u001b[37m\u001b[0m \u001b[1m0s\u001b[0m 57ms/step\n",
            "{'image': '1825.jpg', 'actual_class': 'fruits-dataset/test/test/1825.jpg', 'predicted_class': 'Potato Red'}\n",
            "\u001b[1m1/1\u001b[0m \u001b[32m━━━━━━━━━━━━━━━━━━━━\u001b[0m\u001b[37m\u001b[0m \u001b[1m0s\u001b[0m 68ms/step\n",
            "{'image': '2882.jpg', 'actual_class': 'fruits-dataset/test/test/2882.jpg', 'predicted_class': 'Pineapple'}\n",
            "\u001b[1m1/1\u001b[0m \u001b[32m━━━━━━━━━━━━━━━━━━━━\u001b[0m\u001b[37m\u001b[0m \u001b[1m0s\u001b[0m 64ms/step\n",
            "{'image': '1321.jpg', 'actual_class': 'fruits-dataset/test/test/1321.jpg', 'predicted_class': 'Apple Braeburn'}\n",
            "\u001b[1m1/1\u001b[0m \u001b[32m━━━━━━━━━━━━━━━━━━━━\u001b[0m\u001b[37m\u001b[0m \u001b[1m0s\u001b[0m 49ms/step\n",
            "{'image': '0258.jpg', 'actual_class': 'fruits-dataset/test/test/0258.jpg', 'predicted_class': 'Watermelon'}\n",
            "\u001b[1m1/1\u001b[0m \u001b[32m━━━━━━━━━━━━━━━━━━━━\u001b[0m\u001b[37m\u001b[0m \u001b[1m0s\u001b[0m 44ms/step\n",
            "{'image': '3719.jpg', 'actual_class': 'fruits-dataset/test/test/3719.jpg', 'predicted_class': 'Plum'}\n",
            "\u001b[1m1/1\u001b[0m \u001b[32m━━━━━━━━━━━━━━━━━━━━\u001b[0m\u001b[37m\u001b[0m \u001b[1m0s\u001b[0m 43ms/step\n",
            "{'image': '2102.jpg', 'actual_class': 'fruits-dataset/test/test/2102.jpg', 'predicted_class': 'Mango'}\n",
            "\u001b[1m1/1\u001b[0m \u001b[32m━━━━━━━━━━━━━━━━━━━━\u001b[0m\u001b[37m\u001b[0m \u001b[1m0s\u001b[0m 40ms/step\n",
            "{'image': '5466.jpg', 'actual_class': 'fruits-dataset/test/test/5466.jpg', 'predicted_class': 'Pepper Red'}\n",
            "\u001b[1m1/1\u001b[0m \u001b[32m━━━━━━━━━━━━━━━━━━━━\u001b[0m\u001b[37m\u001b[0m \u001b[1m0s\u001b[0m 42ms/step\n",
            "{'image': '3839.jpg', 'actual_class': 'fruits-dataset/test/test/3839.jpg', 'predicted_class': 'Pomegranate'}\n",
            "\u001b[1m1/1\u001b[0m \u001b[32m━━━━━━━━━━━━━━━━━━━━\u001b[0m\u001b[37m\u001b[0m \u001b[1m0s\u001b[0m 41ms/step\n",
            "{'image': '1779.jpg', 'actual_class': 'fruits-dataset/test/test/1779.jpg', 'predicted_class': 'Plum'}\n",
            "\u001b[1m1/1\u001b[0m \u001b[32m━━━━━━━━━━━━━━━━━━━━\u001b[0m\u001b[37m\u001b[0m \u001b[1m0s\u001b[0m 42ms/step\n",
            "{'image': '1497.jpg', 'actual_class': 'fruits-dataset/test/test/1497.jpg', 'predicted_class': 'Grape Blue'}\n",
            "\u001b[1m1/1\u001b[0m \u001b[32m━━━━━━━━━━━━━━━━━━━━\u001b[0m\u001b[37m\u001b[0m \u001b[1m0s\u001b[0m 41ms/step\n",
            "{'image': '4980.jpg', 'actual_class': 'fruits-dataset/test/test/4980.jpg', 'predicted_class': 'Potato Red'}\n",
            "\u001b[1m1/1\u001b[0m \u001b[32m━━━━━━━━━━━━━━━━━━━━\u001b[0m\u001b[37m\u001b[0m \u001b[1m0s\u001b[0m 41ms/step\n",
            "{'image': '3988.jpg', 'actual_class': 'fruits-dataset/test/test/3988.jpg', 'predicted_class': 'Pepper Green'}\n",
            "\u001b[1m1/1\u001b[0m \u001b[32m━━━━━━━━━━━━━━━━━━━━\u001b[0m\u001b[37m\u001b[0m \u001b[1m0s\u001b[0m 40ms/step\n",
            "{'image': '3855.jpg', 'actual_class': 'fruits-dataset/test/test/3855.jpg', 'predicted_class': 'Raspberry'}\n",
            "\u001b[1m1/1\u001b[0m \u001b[32m━━━━━━━━━━━━━━━━━━━━\u001b[0m\u001b[37m\u001b[0m \u001b[1m0s\u001b[0m 51ms/step\n",
            "{'image': '2367.jpg', 'actual_class': 'fruits-dataset/test/test/2367.jpg', 'predicted_class': 'Pomegranate'}\n",
            "\u001b[1m1/1\u001b[0m \u001b[32m━━━━━━━━━━━━━━━━━━━━\u001b[0m\u001b[37m\u001b[0m \u001b[1m0s\u001b[0m 42ms/step\n",
            "{'image': '2000.jpg', 'actual_class': 'fruits-dataset/test/test/2000.jpg', 'predicted_class': 'Kiwi'}\n",
            "\u001b[1m1/1\u001b[0m \u001b[32m━━━━━━━━━━━━━━━━━━━━\u001b[0m\u001b[37m\u001b[0m \u001b[1m0s\u001b[0m 42ms/step\n",
            "{'image': '4712.jpg', 'actual_class': 'fruits-dataset/test/test/4712.jpg', 'predicted_class': 'Orange'}\n",
            "\u001b[1m1/1\u001b[0m \u001b[32m━━━━━━━━━━━━━━━━━━━━\u001b[0m\u001b[37m\u001b[0m \u001b[1m0s\u001b[0m 42ms/step\n",
            "{'image': '3806.jpg', 'actual_class': 'fruits-dataset/test/test/3806.jpg', 'predicted_class': 'Papaya'}\n",
            "\u001b[1m1/1\u001b[0m \u001b[32m━━━━━━━━━━━━━━━━━━━━\u001b[0m\u001b[37m\u001b[0m \u001b[1m0s\u001b[0m 41ms/step\n",
            "{'image': '0786.jpg', 'actual_class': 'fruits-dataset/test/test/0786.jpg', 'predicted_class': 'Papaya'}\n",
            "\u001b[1m1/1\u001b[0m \u001b[32m━━━━━━━━━━━━━━━━━━━━\u001b[0m\u001b[37m\u001b[0m \u001b[1m0s\u001b[0m 42ms/step\n",
            "{'image': '2623.jpg', 'actual_class': 'fruits-dataset/test/test/2623.jpg', 'predicted_class': 'Orange'}\n",
            "\u001b[1m1/1\u001b[0m \u001b[32m━━━━━━━━━━━━━━━━━━━━\u001b[0m\u001b[37m\u001b[0m \u001b[1m0s\u001b[0m 42ms/step\n",
            "{'image': '3376.jpg', 'actual_class': 'fruits-dataset/test/test/3376.jpg', 'predicted_class': 'Orange'}\n",
            "\u001b[1m1/1\u001b[0m \u001b[32m━━━━━━━━━━━━━━━━━━━━\u001b[0m\u001b[37m\u001b[0m \u001b[1m0s\u001b[0m 42ms/step\n",
            "{'image': '4617.jpg', 'actual_class': 'fruits-dataset/test/test/4617.jpg', 'predicted_class': 'Orange'}\n",
            "\u001b[1m1/1\u001b[0m \u001b[32m━━━━━━━━━━━━━━━━━━━━\u001b[0m\u001b[37m\u001b[0m \u001b[1m0s\u001b[0m 42ms/step\n",
            "{'image': '2081.jpg', 'actual_class': 'fruits-dataset/test/test/2081.jpg', 'predicted_class': 'Avocado'}\n",
            "\u001b[1m1/1\u001b[0m \u001b[32m━━━━━━━━━━━━━━━━━━━━\u001b[0m\u001b[37m\u001b[0m \u001b[1m0s\u001b[0m 140ms/step\n",
            "{'image': '0358.jpg', 'actual_class': 'fruits-dataset/test/test/0358.jpg', 'predicted_class': 'Grape Blue'}\n",
            "\u001b[1m1/1\u001b[0m \u001b[32m━━━━━━━━━━━━━━━━━━━━\u001b[0m\u001b[37m\u001b[0m \u001b[1m0s\u001b[0m 46ms/step\n",
            "{'image': '5597.jpg', 'actual_class': 'fruits-dataset/test/test/5597.jpg', 'predicted_class': 'Blueberry'}\n",
            "\u001b[1m1/1\u001b[0m \u001b[32m━━━━━━━━━━━━━━━━━━━━\u001b[0m\u001b[37m\u001b[0m \u001b[1m0s\u001b[0m 41ms/step\n",
            "{'image': '4280.jpg', 'actual_class': 'fruits-dataset/test/test/4280.jpg', 'predicted_class': 'Apple Braeburn'}\n",
            "\u001b[1m1/1\u001b[0m \u001b[32m━━━━━━━━━━━━━━━━━━━━\u001b[0m\u001b[37m\u001b[0m \u001b[1m0s\u001b[0m 41ms/step\n",
            "{'image': '1796.jpg', 'actual_class': 'fruits-dataset/test/test/1796.jpg', 'predicted_class': 'Kiwi'}\n",
            "\u001b[1m1/1\u001b[0m \u001b[32m━━━━━━━━━━━━━━━━━━━━\u001b[0m\u001b[37m\u001b[0m \u001b[1m0s\u001b[0m 41ms/step\n",
            "{'image': '2709.jpg', 'actual_class': 'fruits-dataset/test/test/2709.jpg', 'predicted_class': 'Orange'}\n",
            "\u001b[1m1/1\u001b[0m \u001b[32m━━━━━━━━━━━━━━━━━━━━\u001b[0m\u001b[37m\u001b[0m \u001b[1m0s\u001b[0m 43ms/step\n",
            "{'image': '1733.jpg', 'actual_class': 'fruits-dataset/test/test/1733.jpg', 'predicted_class': 'Pepper Green'}\n",
            "\u001b[1m1/1\u001b[0m \u001b[32m━━━━━━━━━━━━━━━━━━━━\u001b[0m\u001b[37m\u001b[0m \u001b[1m0s\u001b[0m 48ms/step\n",
            "{'image': '3233.jpg', 'actual_class': 'fruits-dataset/test/test/3233.jpg', 'predicted_class': 'Tomato'}\n",
            "\u001b[1m1/1\u001b[0m \u001b[32m━━━━━━━━━━━━━━━━━━━━\u001b[0m\u001b[37m\u001b[0m \u001b[1m0s\u001b[0m 82ms/step\n",
            "{'image': '0476.jpg', 'actual_class': 'fruits-dataset/test/test/0476.jpg', 'predicted_class': 'Strawberry'}\n",
            "\u001b[1m1/1\u001b[0m \u001b[32m━━━━━━━━━━━━━━━━━━━━\u001b[0m\u001b[37m\u001b[0m \u001b[1m0s\u001b[0m 40ms/step\n",
            "{'image': '0893.jpg', 'actual_class': 'fruits-dataset/test/test/0893.jpg', 'predicted_class': 'Potato Red'}\n",
            "\u001b[1m1/1\u001b[0m \u001b[32m━━━━━━━━━━━━━━━━━━━━\u001b[0m\u001b[37m\u001b[0m \u001b[1m0s\u001b[0m 40ms/step\n",
            "{'image': '2614.jpg', 'actual_class': 'fruits-dataset/test/test/2614.jpg', 'predicted_class': 'Pear'}\n",
            "\u001b[1m1/1\u001b[0m \u001b[32m━━━━━━━━━━━━━━━━━━━━\u001b[0m\u001b[37m\u001b[0m \u001b[1m0s\u001b[0m 43ms/step\n",
            "{'image': '1205.jpg', 'actual_class': 'fruits-dataset/test/test/1205.jpg', 'predicted_class': 'Cactus fruit'}\n",
            "\u001b[1m1/1\u001b[0m \u001b[32m━━━━━━━━━━━━━━━━━━━━\u001b[0m\u001b[37m\u001b[0m \u001b[1m0s\u001b[0m 44ms/step\n",
            "{'image': '1296.jpg', 'actual_class': 'fruits-dataset/test/test/1296.jpg', 'predicted_class': 'Strawberry'}\n",
            "\u001b[1m1/1\u001b[0m \u001b[32m━━━━━━━━━━━━━━━━━━━━\u001b[0m\u001b[37m\u001b[0m \u001b[1m0s\u001b[0m 42ms/step\n",
            "{'image': '4098.jpg', 'actual_class': 'fruits-dataset/test/test/4098.jpg', 'predicted_class': 'Strawberry'}\n",
            "\u001b[1m1/1\u001b[0m \u001b[32m━━━━━━━━━━━━━━━━━━━━\u001b[0m\u001b[37m\u001b[0m \u001b[1m0s\u001b[0m 41ms/step\n",
            "{'image': '0704.jpg', 'actual_class': 'fruits-dataset/test/test/0704.jpg', 'predicted_class': 'Apricot'}\n",
            "\u001b[1m1/1\u001b[0m \u001b[32m━━━━━━━━━━━━━━━━━━━━\u001b[0m\u001b[37m\u001b[0m \u001b[1m0s\u001b[0m 40ms/step\n",
            "{'image': '1102.jpg', 'actual_class': 'fruits-dataset/test/test/1102.jpg', 'predicted_class': 'Apple Braeburn'}\n",
            "\u001b[1m1/1\u001b[0m \u001b[32m━━━━━━━━━━━━━━━━━━━━\u001b[0m\u001b[37m\u001b[0m \u001b[1m0s\u001b[0m 41ms/step\n",
            "{'image': '2855.jpg', 'actual_class': 'fruits-dataset/test/test/2855.jpg', 'predicted_class': 'Pineapple'}\n",
            "\u001b[1m1/1\u001b[0m \u001b[32m━━━━━━━━━━━━━━━━━━━━\u001b[0m\u001b[37m\u001b[0m \u001b[1m0s\u001b[0m 50ms/step\n",
            "{'image': '1559.jpg', 'actual_class': 'fruits-dataset/test/test/1559.jpg', 'predicted_class': 'Orange'}\n",
            "\u001b[1m1/1\u001b[0m \u001b[32m━━━━━━━━━━━━━━━━━━━━\u001b[0m\u001b[37m\u001b[0m \u001b[1m0s\u001b[0m 40ms/step\n",
            "{'image': '1098.jpg', 'actual_class': 'fruits-dataset/test/test/1098.jpg', 'predicted_class': 'Onion White'}\n",
            "\u001b[1m1/1\u001b[0m \u001b[32m━━━━━━━━━━━━━━━━━━━━\u001b[0m\u001b[37m\u001b[0m \u001b[1m0s\u001b[0m 40ms/step\n",
            "{'image': '1908.jpg', 'actual_class': 'fruits-dataset/test/test/1908.jpg', 'predicted_class': 'Pepper Red'}\n",
            "\u001b[1m1/1\u001b[0m \u001b[32m━━━━━━━━━━━━━━━━━━━━\u001b[0m\u001b[37m\u001b[0m \u001b[1m0s\u001b[0m 42ms/step\n",
            "{'image': '0633.jpg', 'actual_class': 'fruits-dataset/test/test/0633.jpg', 'predicted_class': 'Pear'}\n",
            "\u001b[1m1/1\u001b[0m \u001b[32m━━━━━━━━━━━━━━━━━━━━\u001b[0m\u001b[37m\u001b[0m \u001b[1m0s\u001b[0m 41ms/step\n",
            "{'image': '0452.jpg', 'actual_class': 'fruits-dataset/test/test/0452.jpg', 'predicted_class': 'Pepper Green'}\n",
            "\u001b[1m1/1\u001b[0m \u001b[32m━━━━━━━━━━━━━━━━━━━━\u001b[0m\u001b[37m\u001b[0m \u001b[1m0s\u001b[0m 43ms/step\n",
            "{'image': '0764.jpg', 'actual_class': 'fruits-dataset/test/test/0764.jpg', 'predicted_class': 'Blueberry'}\n",
            "\u001b[1m1/1\u001b[0m \u001b[32m━━━━━━━━━━━━━━━━━━━━\u001b[0m\u001b[37m\u001b[0m \u001b[1m0s\u001b[0m 44ms/step\n",
            "{'image': '5113.jpg', 'actual_class': 'fruits-dataset/test/test/5113.jpg', 'predicted_class': 'Strawberry'}\n",
            "\u001b[1m1/1\u001b[0m \u001b[32m━━━━━━━━━━━━━━━━━━━━\u001b[0m\u001b[37m\u001b[0m \u001b[1m0s\u001b[0m 45ms/step\n",
            "{'image': '1706.jpg', 'actual_class': 'fruits-dataset/test/test/1706.jpg', 'predicted_class': 'Cucumber Ripe'}\n",
            "\u001b[1m1/1\u001b[0m \u001b[32m━━━━━━━━━━━━━━━━━━━━\u001b[0m\u001b[37m\u001b[0m \u001b[1m0s\u001b[0m 41ms/step\n",
            "{'image': '3569.jpg', 'actual_class': 'fruits-dataset/test/test/3569.jpg', 'predicted_class': 'Apple Braeburn'}\n",
            "\u001b[1m1/1\u001b[0m \u001b[32m━━━━━━━━━━━━━━━━━━━━\u001b[0m\u001b[37m\u001b[0m \u001b[1m0s\u001b[0m 44ms/step\n",
            "{'image': '4968.jpg', 'actual_class': 'fruits-dataset/test/test/4968.jpg', 'predicted_class': 'Limes'}\n",
            "\u001b[1m1/1\u001b[0m \u001b[32m━━━━━━━━━━━━━━━━━━━━\u001b[0m\u001b[37m\u001b[0m \u001b[1m0s\u001b[0m 44ms/step\n",
            "{'image': '3220.jpg', 'actual_class': 'fruits-dataset/test/test/3220.jpg', 'predicted_class': 'Potato Red'}\n",
            "\u001b[1m1/1\u001b[0m \u001b[32m━━━━━━━━━━━━━━━━━━━━\u001b[0m\u001b[37m\u001b[0m \u001b[1m0s\u001b[0m 52ms/step\n",
            "{'image': '1232.jpg', 'actual_class': 'fruits-dataset/test/test/1232.jpg', 'predicted_class': 'Banana'}\n",
            "\u001b[1m1/1\u001b[0m \u001b[32m━━━━━━━━━━━━━━━━━━━━\u001b[0m\u001b[37m\u001b[0m \u001b[1m0s\u001b[0m 42ms/step\n",
            "{'image': '1127.jpg', 'actual_class': 'fruits-dataset/test/test/1127.jpg', 'predicted_class': 'Strawberry'}\n",
            "\u001b[1m1/1\u001b[0m \u001b[32m━━━━━━━━━━━━━━━━━━━━\u001b[0m\u001b[37m\u001b[0m \u001b[1m0s\u001b[0m 45ms/step\n",
            "{'image': '5067.jpg', 'actual_class': 'fruits-dataset/test/test/5067.jpg', 'predicted_class': 'Plum'}\n",
            "\u001b[1m1/1\u001b[0m \u001b[32m━━━━━━━━━━━━━━━━━━━━\u001b[0m\u001b[37m\u001b[0m \u001b[1m0s\u001b[0m 40ms/step\n",
            "{'image': '4202.jpg', 'actual_class': 'fruits-dataset/test/test/4202.jpg', 'predicted_class': 'Apple Braeburn'}\n",
            "\u001b[1m1/1\u001b[0m \u001b[32m━━━━━━━━━━━━━━━━━━━━\u001b[0m\u001b[37m\u001b[0m \u001b[1m0s\u001b[0m 41ms/step\n",
            "{'image': '4655.jpg', 'actual_class': 'fruits-dataset/test/test/4655.jpg', 'predicted_class': 'Watermelon'}\n",
            "\u001b[1m1/1\u001b[0m \u001b[32m━━━━━━━━━━━━━━━━━━━━\u001b[0m\u001b[37m\u001b[0m \u001b[1m0s\u001b[0m 41ms/step\n",
            "{'image': '4649.jpg', 'actual_class': 'fruits-dataset/test/test/4649.jpg', 'predicted_class': 'Pear'}\n",
            "\u001b[1m1/1\u001b[0m \u001b[32m━━━━━━━━━━━━━━━━━━━━\u001b[0m\u001b[37m\u001b[0m \u001b[1m0s\u001b[0m 42ms/step\n",
            "{'image': '2464.jpg', 'actual_class': 'fruits-dataset/test/test/2464.jpg', 'predicted_class': 'Limes'}\n",
            "\u001b[1m1/1\u001b[0m \u001b[32m━━━━━━━━━━━━━━━━━━━━\u001b[0m\u001b[37m\u001b[0m \u001b[1m0s\u001b[0m 45ms/step\n",
            "{'image': '3655.jpg', 'actual_class': 'fruits-dataset/test/test/3655.jpg', 'predicted_class': 'Cactus fruit'}\n",
            "        image                       actual_class     predicted_class\n",
            "0    0307.jpg  fruits-dataset/test/test/0307.jpg           Pineapple\n",
            "1    4921.jpg  fruits-dataset/test/test/4921.jpg              Papaya\n",
            "2    2181.jpg  fruits-dataset/test/test/2181.jpg           Pineapple\n",
            "3    0870.jpg  fruits-dataset/test/test/0870.jpg  Apple Granny Smith\n",
            "4    3958.jpg  fruits-dataset/test/test/3958.jpg         Onion White\n",
            "..        ...                                ...                 ...\n",
            "96   4202.jpg  fruits-dataset/test/test/4202.jpg      Apple Braeburn\n",
            "97   4655.jpg  fruits-dataset/test/test/4655.jpg          Watermelon\n",
            "98   4649.jpg  fruits-dataset/test/test/4649.jpg                Pear\n",
            "99   2464.jpg  fruits-dataset/test/test/2464.jpg               Limes\n",
            "100  3655.jpg  fruits-dataset/test/test/3655.jpg        Cactus fruit\n",
            "\n",
            "[101 rows x 3 columns]\n"
          ]
        }
      ]
    },
    {
      "cell_type": "code",
      "source": [],
      "metadata": {
        "id": "5GEYCuw7szYh"
      },
      "execution_count": null,
      "outputs": []
    },
    {
      "cell_type": "code",
      "source": [],
      "metadata": {
        "id": "AhTedQswszV4"
      },
      "execution_count": null,
      "outputs": []
    },
    {
      "cell_type": "code",
      "source": [],
      "metadata": {
        "id": "jgk0XOEQszS4"
      },
      "execution_count": null,
      "outputs": []
    },
    {
      "cell_type": "code",
      "source": [],
      "metadata": {
        "id": "qQ_el42vszQU"
      },
      "execution_count": null,
      "outputs": []
    }
  ]
}