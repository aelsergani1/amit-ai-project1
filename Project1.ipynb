{
 "cells": [
  {
   "cell_type": "code",
   "execution_count": 1,
   "id": "93da456b-f473-4778-a970-59f4ece78584",
   "metadata": {},
   "outputs": [
    {
     "name": "stdout",
     "output_type": "stream",
     "text": [
      "Requirement already satisfied: prettytable in /opt/anaconda3/lib/python3.12/site-packages (3.12.0)\n",
      "Requirement already satisfied: wcwidth in /opt/anaconda3/lib/python3.12/site-packages (from prettytable) (0.2.5)\n"
     ]
    }
   ],
   "source": [
    "! pip install prettytable \n"
   ]
  },
  {
   "cell_type": "code",
   "execution_count": 101,
   "id": "3057c905-879b-4b99-b9d4-f3449ac26859",
   "metadata": {},
   "outputs": [],
   "source": [
    "from random import randint\n",
    "\n",
    "class Customer:\n",
    "    def __init__(self, name, password):\n",
    "        self.name = name\n",
    "        self.password = password\n",
    "        self.verificationCode = str(randint(100000, 999999))\n",
    "\n",
    "class Product:\n",
    "    def __init__(self, name, price, quantityAvailable):\n",
    "        self.name = name\n",
    "        self.price = price\n",
    "        self.discountedPrice = price * 0.8\n",
    "        self.quantityAvailable = quantityAvailable\n",
    "\n",
    "class Order:\n",
    "    def __init__(self):\n",
    "        self.products = []\n",
    "        \n",
    "    def addToOrder(self, product, quantityRequired):\n",
    "        product.quantityAvailable -= quantityRequired\n",
    "        self.products.append(product)\n",
    "    \n",
    "    def getTotalDiscountedPrice(self):\n",
    "        total = 0.0\n",
    "        for product in self.products:\n",
    "            total += product.discountedPrice\n",
    "        return total"
   ]
  },
  {
   "cell_type": "code",
   "execution_count": 43,
   "id": "9e7b505e-38e0-46d8-9713-c9f4e2f063fb",
   "metadata": {},
   "outputs": [
    {
     "name": "stdin",
     "output_type": "stream",
     "text": [
      "Enter your name aaa\n",
      "Enter your password aaa\n"
     ]
    },
    {
     "name": "stdout",
     "output_type": "stream",
     "text": [
      "Your verification Code is:  561985\n"
     ]
    },
    {
     "name": "stdin",
     "output_type": "stream",
     "text": [
      "Enter Verification Code: 561985\n"
     ]
    },
    {
     "name": "stdout",
     "output_type": "stream",
     "text": [
      "Welcome\n"
     ]
    }
   ],
   "source": [
    "name = input('Enter your name')\n",
    "password = input('Enter your password')\n",
    "customer = Customer(name, password)\n",
    "print(\"Your verification Code is: \", customer.verificationCode)\n",
    "verificationCode = input(\"Enter Verification Code:\")\n",
    "while True:\n",
    "    if verificationCode == customer.verificationCode:\n",
    "        print(\"Welcome\")\n",
    "        break\n",
    "    else:\n",
    "        print(\"Incorrect Verification Code. Please try again.\")"
   ]
  },
  {
   "cell_type": "code",
   "execution_count": 45,
   "id": "23396818-8960-4228-9108-d48a0cd7be6d",
   "metadata": {},
   "outputs": [],
   "source": [
    "superMarketProducts = []\n",
    "superMarketProducts.append(Product(\"Water\", 80.0, 1200))\n",
    "superMarketProducts.append(Product(\"Soda\", 130.0, 1200))\n",
    "superMarketProducts.append(Product(\"Chips\", 75.0, 1200))\n",
    "superMarketProducts.append(Product(\"Bread\", 45.0, 1200))\n",
    "superMarketProducts.append(Product(\"Eggs\", 65.0, 1200))"
   ]
  },
  {
   "cell_type": "code",
   "execution_count": 61,
   "id": "e8636ddb-b901-40f3-bbdc-f4dc29d289dc",
   "metadata": {},
   "outputs": [],
   "source": [
    "from prettytable import PrettyTable\n",
    "\n",
    "#Initilise Supermarket Products\n",
    "def printMenu(products):\n",
    "    myTable = PrettyTable([\"Name\", \"Price\", \"Quantity\"])\n",
    "    for product in products:\n",
    "        myTable.add_row([product.name, product.price, product.quantityAvailable])\n",
    "    print(myTable)"
   ]
  },
  {
   "cell_type": "code",
   "execution_count": 105,
   "id": "724e29e3-71be-43d3-bf67-3381b7021a75",
   "metadata": {},
   "outputs": [
    {
     "name": "stdout",
     "output_type": "stream",
     "text": [
      "+-------+-------+----------+\n",
      "|  Name | Price | Quantity |\n",
      "+-------+-------+----------+\n",
      "| Water |  80.0 |   940    |\n",
      "|  Soda | 130.0 |   1000   |\n",
      "| Chips |  75.0 |   1200   |\n",
      "| Bread |  45.0 |   1200   |\n",
      "|  Eggs |  65.0 |   1200   |\n",
      "+-------+-------+----------+\n"
     ]
    },
    {
     "name": "stdin",
     "output_type": "stream",
     "text": [
      "Enter Product Name:  Water\n",
      "Enter Quantity Requred:  50\n"
     ]
    },
    {
     "name": "stdout",
     "output_type": "stream",
     "text": [
      "Discounted Price: $ 3200.0\n"
     ]
    },
    {
     "name": "stdin",
     "output_type": "stream",
     "text": [
      "Do you want to add another item? (yes/no):  no\n"
     ]
    }
   ],
   "source": [
    "order = Order()\n",
    "\n",
    "collectOrder(superMarketProducts, order)\n",
    "            "
   ]
  },
  {
   "cell_type": "code",
   "execution_count": 49,
   "id": "a9413bda-ed0b-4a87-8bba-f36ebfc2062a",
   "metadata": {},
   "outputs": [],
   "source": [
    "def collectOrder(products, order):\n",
    "    while True:\n",
    "        printMenu(products)\n",
    "        selectedProductName = input(\"Enter Product Name: \")\n",
    "        productFound = False\n",
    "        for product in products:\n",
    "            if selectedProductName == product.name:\n",
    "                while True:\n",
    "                    selectedProductQuantity = int(input(\"Enter Quantity Requred: \"))\n",
    "                    if selectedProductQuantity <= product.quantityAvailable:\n",
    "                        productFound = True\n",
    "                        order.addToOrder(product, selectedProductQuantity)\n",
    "                        discountedPrice = product.discountedPrice * selectedProductQuantity\n",
    "                        print(\"Discounted Price: $\", discountedPrice)\n",
    "                        break\n",
    "                    else:\n",
    "                        print(\"Unable to process your request. Only \" , product.quantityAvailable , \" are available.\")\n",
    "        if productFound:\n",
    "            if input(\"Do you want to add another item? (yes/no): \") == \"no\":\n",
    "                break\n",
    "            "
   ]
  },
  {
   "cell_type": "code",
   "execution_count": 107,
   "id": "d4ee04b6-e995-40bd-9570-25092921bfc8",
   "metadata": {},
   "outputs": [],
   "source": [
    "#Initilise Stationary Products\n",
    "\n",
    "stationaryProducts = []\n",
    "stationaryProducts.append(Product(\"Notebook\", 50.0, 500))\n",
    "stationaryProducts.append(Product(\"Pen\", 10.0, 1000))\n",
    "stationaryProducts.append(Product(\"Pencil\", 5.0, 1500))\n",
    "stationaryProducts.append(Product(\"Eraser\", 3.0, 800))\n",
    "stationaryProducts.append(Product(\"Ruler\", 20.0, 300))"
   ]
  },
  {
   "cell_type": "code",
   "execution_count": 109,
   "id": "b53f6851-53e6-41ba-a575-96c48d7db1b5",
   "metadata": {},
   "outputs": [
    {
     "name": "stdin",
     "output_type": "stream",
     "text": [
      "Do you want to visit our new stationary store? (yes/no):  no\n"
     ]
    }
   ],
   "source": [
    "# Stationary Store Order\n",
    "\n",
    "if input(\"Do you want to visit our new stationary store? (yes/no): \") == \"yes\":\n",
    "    print(\"Stationary Store Products:\")\n",
    "    collectOrder(stationaryProducts, order)\n",
    "\n",
    "    "
   ]
  },
  {
   "cell_type": "code",
   "execution_count": 113,
   "id": "39bc1515-7eb4-4fa5-9ac6-3ca3791e14e9",
   "metadata": {},
   "outputs": [
    {
     "name": "stdout",
     "output_type": "stream",
     "text": [
      "Total Discounted Price (including stationary store): $ 64.0\n"
     ]
    },
    {
     "name": "stdin",
     "output_type": "stream",
     "text": [
      "Do you want deliver or pick-up? (Enter 'delivery' or 'pick-up'):  delivery\n",
      "Choose a payment currency (USD, EUR, EGP):  \n",
      "Choose a payment currency (USD, EUR, EGP):  \n",
      "Choose a payment currency (USD, EUR, EGP):  \n",
      "Choose a payment currency (USD, EUR, EGP):  EUR\n"
     ]
    },
    {
     "name": "stdout",
     "output_type": "stream",
     "text": [
      "Your order is on the way.\n"
     ]
    }
   ],
   "source": [
    "## Total Order\n",
    "print(\"Total Discounted Price (including stationary store): $\", order.getTotalDiscountedPrice())\n",
    "while True:\n",
    "    deliveryPickupInput = input(\"Do you want deliver or pick-up? (Enter 'delivery' or 'pick-up'): \")\n",
    "    if deliveryPickupInput in ['delivery', 'pick-up']:\n",
    "        break\n",
    "\n",
    "while True:\n",
    "    currencyInput = input(\"Choose a payment currency (USD, EUR, EGP): \")\n",
    "    if currencyInput in ['USD', 'EUR', 'EGP']:\n",
    "        break\n",
    "\n",
    "\n",
    "if deliveryPickupInput == \"delivery\":\n",
    "    print(\"Your order is on the way.\")\n",
    "else:\n",
    "    print(\"Your order is ready for pickup.\")\n",
    "\n"
   ]
  }
 ],
 "metadata": {
  "kernelspec": {
   "display_name": "Python [conda env:base] *",
   "language": "python",
   "name": "conda-base-py"
  },
  "language_info": {
   "codemirror_mode": {
    "name": "ipython",
    "version": 3
   },
   "file_extension": ".py",
   "mimetype": "text/x-python",
   "name": "python",
   "nbconvert_exporter": "python",
   "pygments_lexer": "ipython3",
   "version": "3.12.7"
  }
 },
 "nbformat": 4,
 "nbformat_minor": 5
}
